{
 "cells": [
  {
   "cell_type": "markdown",
   "id": "6501794c-28fb-46da-99c9-4a985e83b183",
   "metadata": {},
   "source": [
    "# 📊 Internship Performance Evaluation Dashboard"
   ]
  },
  {
   "cell_type": "markdown",
   "id": "5d6ee07c-5626-40f6-ac34-6cb2f159aadd",
   "metadata": {
    "jp-MarkdownHeadingCollapsed": true
   },
   "source": [
    "## 🎯 Objective:\n",
    "To monitor intern task efficiency, quality, and feedback using data-driven KPIs and generate automated monthly reports."
   ]
  },
  {
   "cell_type": "markdown",
   "id": "203dddbf-c4c9-4f15-bb69-65db09402468",
   "metadata": {},
   "source": [
    "## 🧰 Tools & Technologies Used\n",
    "- **Python**: For data manipulation and analysis  \n",
    "- **Pandas**: For handling and processing tabular data  \n",
    "- **Matplotlib**: For creating visualizations  \n",
    "- **Excel**: For data import/export and reporting  \n",
    "- **Jupyter Notebook**: For documenting and running the entire project  \n"
   ]
  },
  {
   "cell_type": "markdown",
   "id": "fc336892-5668-4bdb-90a3-6985dd1c8be0",
   "metadata": {},
   "source": [
    "## ⚙️ Import Libraries & Setup"
   ]
  },
  {
   "cell_type": "code",
   "execution_count": 73,
   "id": "c7d06e17-c1f8-4064-ab5e-bd1e9d2bb73a",
   "metadata": {},
   "outputs": [],
   "source": [
    "import pandas as pd                     # Data manipulation\n",
    "import numpy as np                      # Numerical calculations\n",
    "import matplotlib.pyplot as plt         # Plotting library\n",
    "import random                           # Random value generation\n",
    "from faker import Faker                 # Generate fake names and data\n",
    "from datetime import timedelta          # Work with date differences\n",
    "import nltk                             # Natural Language Toolkit\n",
    "from nltk.sentiment import SentimentIntensityAnalyzer  # For sentiment analysis"
   ]
  },
  {
   "cell_type": "markdown",
   "id": "24bb7e39-37c9-4500-a24a-05b3f72eef24",
   "metadata": {},
   "source": [
    "## 📁 Dataset Overview"
   ]
  },
  {
   "cell_type": "markdown",
   "id": "8baec549-0305-45f9-bf53-6a6c87726c7f",
   "metadata": {},
   "source": [
    "### 🔹 Load the dataset"
   ]
  },
  {
   "cell_type": "code",
   "execution_count": 71,
   "id": "384a0923-113f-4a2c-9356-a6b56be616a5",
   "metadata": {},
   "outputs": [],
   "source": [
    "df = pd.read_csv(\"Intern_Performance_Data.csv\", parse_dates=['Date of Assignment', 'Date of Completion'])"
   ]
  },
  {
   "cell_type": "markdown",
   "id": "de72aeb3-57c4-4cb7-8107-1e15b9d50748",
   "metadata": {},
   "source": [
    "### 🔹 Preview dataset"
   ]
  },
  {
   "cell_type": "code",
   "execution_count": 72,
   "id": "9b7a4fe7-c51e-4c87-b961-da3c4c4bae74",
   "metadata": {},
   "outputs": [
    {
     "data": {
      "text/html": [
       "<div>\n",
       "<style scoped>\n",
       "    .dataframe tbody tr th:only-of-type {\n",
       "        vertical-align: middle;\n",
       "    }\n",
       "\n",
       "    .dataframe tbody tr th {\n",
       "        vertical-align: top;\n",
       "    }\n",
       "\n",
       "    .dataframe thead th {\n",
       "        text-align: right;\n",
       "    }\n",
       "</style>\n",
       "<table border=\"1\" class=\"dataframe\">\n",
       "  <thead>\n",
       "    <tr style=\"text-align: right;\">\n",
       "      <th></th>\n",
       "      <th>Intern Name</th>\n",
       "      <th>Intern ID</th>\n",
       "      <th>Department</th>\n",
       "      <th>Task Name</th>\n",
       "      <th>Project Assigned</th>\n",
       "      <th>Date of Assignment</th>\n",
       "      <th>Date of Completion</th>\n",
       "      <th>Month</th>\n",
       "    </tr>\n",
       "  </thead>\n",
       "  <tbody>\n",
       "    <tr>\n",
       "      <th>0</th>\n",
       "      <td>Allison Hill</td>\n",
       "      <td>INT1000</td>\n",
       "      <td>Operations</td>\n",
       "      <td>Report Analysis</td>\n",
       "      <td>Project Alpha</td>\n",
       "      <td>2024-12-26</td>\n",
       "      <td>2025-01-07</td>\n",
       "      <td>December</td>\n",
       "    </tr>\n",
       "    <tr>\n",
       "      <th>1</th>\n",
       "      <td>Brian Yang</td>\n",
       "      <td>INT1001</td>\n",
       "      <td>Finance</td>\n",
       "      <td>Social Media Campaign</td>\n",
       "      <td>Project Beta</td>\n",
       "      <td>2025-02-26</td>\n",
       "      <td>2025-03-01</td>\n",
       "      <td>February</td>\n",
       "    </tr>\n",
       "    <tr>\n",
       "      <th>2</th>\n",
       "      <td>Javier Johnson</td>\n",
       "      <td>INT1002</td>\n",
       "      <td>Operations</td>\n",
       "      <td>Report Analysis</td>\n",
       "      <td>Project Sigma</td>\n",
       "      <td>2024-12-25</td>\n",
       "      <td>2024-12-27</td>\n",
       "      <td>December</td>\n",
       "    </tr>\n",
       "    <tr>\n",
       "      <th>3</th>\n",
       "      <td>Lance Hoffman</td>\n",
       "      <td>INT1003</td>\n",
       "      <td>Design</td>\n",
       "      <td>API Integration</td>\n",
       "      <td>Project Alpha</td>\n",
       "      <td>2025-04-01</td>\n",
       "      <td>2025-04-02</td>\n",
       "      <td>April</td>\n",
       "    </tr>\n",
       "    <tr>\n",
       "      <th>4</th>\n",
       "      <td>Kimberly Robinson</td>\n",
       "      <td>INT1004</td>\n",
       "      <td>HR</td>\n",
       "      <td>Social Media Campaign</td>\n",
       "      <td>Project Beta</td>\n",
       "      <td>2025-03-07</td>\n",
       "      <td>2025-03-16</td>\n",
       "      <td>March</td>\n",
       "    </tr>\n",
       "  </tbody>\n",
       "</table>\n",
       "</div>"
      ],
      "text/plain": [
       "         Intern Name Intern ID  Department              Task Name  \\\n",
       "0       Allison Hill   INT1000  Operations        Report Analysis   \n",
       "1         Brian Yang   INT1001     Finance  Social Media Campaign   \n",
       "2     Javier Johnson   INT1002  Operations        Report Analysis   \n",
       "3      Lance Hoffman   INT1003      Design        API Integration   \n",
       "4  Kimberly Robinson   INT1004          HR  Social Media Campaign   \n",
       "\n",
       "  Project Assigned Date of Assignment Date of Completion     Month  \n",
       "0    Project Alpha         2024-12-26         2025-01-07  December  \n",
       "1     Project Beta         2025-02-26         2025-03-01  February  \n",
       "2    Project Sigma         2024-12-25         2024-12-27  December  \n",
       "3    Project Alpha         2025-04-01         2025-04-02     April  \n",
       "4     Project Beta         2025-03-07         2025-03-16     March  "
      ]
     },
     "execution_count": 72,
     "metadata": {},
     "output_type": "execute_result"
    }
   ],
   "source": [
    "df.head()"
   ]
  },
  {
   "cell_type": "markdown",
   "id": "064332f5-b59c-427e-9040-08d9b1b41a1b",
   "metadata": {},
   "source": [
    "## 🧹 Data Preprocessing"
   ]
  },
  {
   "cell_type": "markdown",
   "id": "be99c936-e606-477a-a258-fb32f1d23ed6",
   "metadata": {},
   "source": [
    "### 🔹 Convert Dates"
   ]
  },
  {
   "cell_type": "code",
   "execution_count": null,
   "id": "43e8cf0f-bf91-402e-aa2f-5f3d2617afbb",
   "metadata": {},
   "outputs": [],
   "source": [
    "# Already converted using parse_dates during loading\n",
    "df['Date of Assignment'] = pd.to_datetime(df['Date of Assignment'])\n",
    "df['Date of Completion'] = pd.to_datetime(df['Date of Completion'])"
   ]
  },
  {
   "cell_type": "markdown",
   "id": "f2db18e6-7cd5-4294-ac2b-5e6d7a0ff7da",
   "metadata": {},
   "source": [
    "### 🔹 Handle Missing Data"
   ]
  },
  {
   "cell_type": "code",
   "execution_count": 5,
   "id": "9bcacce0-785f-46f4-a0a3-8ba61d9da600",
   "metadata": {},
   "outputs": [
    {
     "data": {
      "text/plain": [
       "Intern Name           0\n",
       "Intern ID             0\n",
       "Department            0\n",
       "Task Name             0\n",
       "Project Assigned      0\n",
       "Date of Assignment    0\n",
       "Date of Completion    0\n",
       "Month                 0\n",
       "dtype: int64"
      ]
     },
     "execution_count": 5,
     "metadata": {},
     "output_type": "execute_result"
    }
   ],
   "source": [
    "# Check for missing values\n",
    "df.isnull().sum()"
   ]
  },
  {
   "cell_type": "markdown",
   "id": "1d38f851-d778-4763-8c77-7ee74530826a",
   "metadata": {},
   "source": [
    "## 🧮 Feature Engineering"
   ]
  },
  {
   "cell_type": "markdown",
   "id": "e026a2f2-c55f-4e06-9f61-2295a2e3bc43",
   "metadata": {},
   "source": [
    "### 🔹 Calculate Task_Completion_Days"
   ]
  },
  {
   "cell_type": "code",
   "execution_count": 8,
   "id": "ddb44ac7-11dd-41a2-9092-e1f102b60d8c",
   "metadata": {},
   "outputs": [],
   "source": [
    "df['Task_Completion_Days'] = (df['Date of Completion'] - df['Date of Assignment']).dt.days\n"
   ]
  },
  {
   "cell_type": "markdown",
   "id": "15851737-48b4-4589-8b84-a6a140569263",
   "metadata": {},
   "source": [
    "### 🔹 Generate Project_Quality_Score & Mentor_Feedback_Score"
   ]
  },
  {
   "cell_type": "code",
   "execution_count": 10,
   "id": "35864f4b-97ee-4735-becb-e6cd7f50879b",
   "metadata": {},
   "outputs": [],
   "source": [
    "import random\n",
    "\n",
    "df['Project_Quality_Score'] = [random.randint(6, 10) for _ in range(len(df))]\n",
    "df['Mentor_Feedback_Score'] = [random.randint(3, 5) for _ in range(len(df))]\n"
   ]
  },
  {
   "cell_type": "markdown",
   "id": "274a47b5-e1af-45ff-bdcd-fb7656aa588b",
   "metadata": {},
   "source": [
    "## 📊 Exploratory Data Analysis (EDA)"
   ]
  },
  {
   "cell_type": "markdown",
   "id": "ba7242bd-cab4-41fd-a49e-8c2fb65a04ff",
   "metadata": {},
   "source": [
    "### 🔹 Dataset shape, sample, nulls, dtypes"
   ]
  },
  {
   "cell_type": "code",
   "execution_count": 13,
   "id": "e2ecb109-c7dc-43df-844e-8afb725da181",
   "metadata": {},
   "outputs": [
    {
     "name": "stdout",
     "output_type": "stream",
     "text": [
      "Total rows: 5000, Total columns: 11\n",
      "Column names: ['Intern Name', 'Intern ID', 'Department', 'Task Name', 'Project Assigned', 'Date of Assignment', 'Date of Completion', 'Month', 'Task_Completion_Days', 'Project_Quality_Score', 'Mentor_Feedback_Score']\n",
      "\n",
      "Missing values:\n",
      " Intern Name              0\n",
      "Intern ID                0\n",
      "Department               0\n",
      "Task Name                0\n",
      "Project Assigned         0\n",
      "Date of Assignment       0\n",
      "Date of Completion       0\n",
      "Month                    0\n",
      "Task_Completion_Days     0\n",
      "Project_Quality_Score    0\n",
      "Mentor_Feedback_Score    0\n",
      "dtype: int64\n",
      "\n",
      "Data types:\n",
      " Intern Name                      object\n",
      "Intern ID                        object\n",
      "Department                       object\n",
      "Task Name                        object\n",
      "Project Assigned                 object\n",
      "Date of Assignment       datetime64[ns]\n",
      "Date of Completion       datetime64[ns]\n",
      "Month                            object\n",
      "Task_Completion_Days              int64\n",
      "Project_Quality_Score             int64\n",
      "Mentor_Feedback_Score             int64\n",
      "dtype: object\n"
     ]
    },
    {
     "data": {
      "text/html": [
       "<div>\n",
       "<style scoped>\n",
       "    .dataframe tbody tr th:only-of-type {\n",
       "        vertical-align: middle;\n",
       "    }\n",
       "\n",
       "    .dataframe tbody tr th {\n",
       "        vertical-align: top;\n",
       "    }\n",
       "\n",
       "    .dataframe thead th {\n",
       "        text-align: right;\n",
       "    }\n",
       "</style>\n",
       "<table border=\"1\" class=\"dataframe\">\n",
       "  <thead>\n",
       "    <tr style=\"text-align: right;\">\n",
       "      <th></th>\n",
       "      <th>Intern Name</th>\n",
       "      <th>Intern ID</th>\n",
       "      <th>Department</th>\n",
       "      <th>Task Name</th>\n",
       "      <th>Project Assigned</th>\n",
       "      <th>Date of Assignment</th>\n",
       "      <th>Date of Completion</th>\n",
       "      <th>Month</th>\n",
       "      <th>Task_Completion_Days</th>\n",
       "      <th>Project_Quality_Score</th>\n",
       "      <th>Mentor_Feedback_Score</th>\n",
       "    </tr>\n",
       "  </thead>\n",
       "  <tbody>\n",
       "    <tr>\n",
       "      <th>3062</th>\n",
       "      <td>Terri Gonzalez</td>\n",
       "      <td>INT4062</td>\n",
       "      <td>Finance</td>\n",
       "      <td>API Integration</td>\n",
       "      <td>Project Delta</td>\n",
       "      <td>2025-03-03</td>\n",
       "      <td>2025-03-14</td>\n",
       "      <td>March</td>\n",
       "      <td>11</td>\n",
       "      <td>8</td>\n",
       "      <td>5</td>\n",
       "    </tr>\n",
       "    <tr>\n",
       "      <th>1923</th>\n",
       "      <td>Brittany Cox</td>\n",
       "      <td>INT2923</td>\n",
       "      <td>Operations</td>\n",
       "      <td>Inventory Audit</td>\n",
       "      <td>Project Gamma</td>\n",
       "      <td>2025-04-21</td>\n",
       "      <td>2025-04-22</td>\n",
       "      <td>April</td>\n",
       "      <td>1</td>\n",
       "      <td>6</td>\n",
       "      <td>5</td>\n",
       "    </tr>\n",
       "    <tr>\n",
       "      <th>894</th>\n",
       "      <td>Sharon Coffey</td>\n",
       "      <td>INT1894</td>\n",
       "      <td>Operations</td>\n",
       "      <td>Inventory Audit</td>\n",
       "      <td>Project Delta</td>\n",
       "      <td>2025-03-25</td>\n",
       "      <td>2025-04-01</td>\n",
       "      <td>March</td>\n",
       "      <td>7</td>\n",
       "      <td>10</td>\n",
       "      <td>3</td>\n",
       "    </tr>\n",
       "    <tr>\n",
       "      <th>4719</th>\n",
       "      <td>Nicholas Chung</td>\n",
       "      <td>INT5719</td>\n",
       "      <td>Operations</td>\n",
       "      <td>API Integration</td>\n",
       "      <td>Project Gamma</td>\n",
       "      <td>2025-04-15</td>\n",
       "      <td>2025-04-30</td>\n",
       "      <td>April</td>\n",
       "      <td>15</td>\n",
       "      <td>10</td>\n",
       "      <td>4</td>\n",
       "    </tr>\n",
       "    <tr>\n",
       "      <th>4760</th>\n",
       "      <td>Michael Robinson</td>\n",
       "      <td>INT5760</td>\n",
       "      <td>Finance</td>\n",
       "      <td>Market Research</td>\n",
       "      <td>Project Delta</td>\n",
       "      <td>2025-01-11</td>\n",
       "      <td>2025-01-18</td>\n",
       "      <td>January</td>\n",
       "      <td>7</td>\n",
       "      <td>6</td>\n",
       "      <td>4</td>\n",
       "    </tr>\n",
       "  </tbody>\n",
       "</table>\n",
       "</div>"
      ],
      "text/plain": [
       "           Intern Name Intern ID  Department        Task Name  \\\n",
       "3062    Terri Gonzalez   INT4062     Finance  API Integration   \n",
       "1923      Brittany Cox   INT2923  Operations  Inventory Audit   \n",
       "894      Sharon Coffey   INT1894  Operations  Inventory Audit   \n",
       "4719    Nicholas Chung   INT5719  Operations  API Integration   \n",
       "4760  Michael Robinson   INT5760     Finance  Market Research   \n",
       "\n",
       "     Project Assigned Date of Assignment Date of Completion    Month  \\\n",
       "3062    Project Delta         2025-03-03         2025-03-14    March   \n",
       "1923    Project Gamma         2025-04-21         2025-04-22    April   \n",
       "894     Project Delta         2025-03-25         2025-04-01    March   \n",
       "4719    Project Gamma         2025-04-15         2025-04-30    April   \n",
       "4760    Project Delta         2025-01-11         2025-01-18  January   \n",
       "\n",
       "      Task_Completion_Days  Project_Quality_Score  Mentor_Feedback_Score  \n",
       "3062                    11                      8                      5  \n",
       "1923                     1                      6                      5  \n",
       "894                      7                     10                      3  \n",
       "4719                    15                     10                      4  \n",
       "4760                     7                      6                      4  "
      ]
     },
     "execution_count": 13,
     "metadata": {},
     "output_type": "execute_result"
    }
   ],
   "source": [
    "print(f\"Total rows: {df.shape[0]}, Total columns: {df.shape[1]}\")\n",
    "print(\"Column names:\", df.columns.tolist())\n",
    "print(\"\\nMissing values:\\n\", df.isnull().sum())\n",
    "print(\"\\nData types:\\n\", df.dtypes)\n",
    "df.sample(5)\n"
   ]
  },
  {
   "cell_type": "markdown",
   "id": "b5ac2873-79ef-4e99-a0a3-e689ec6f9be3",
   "metadata": {},
   "source": [
    "### 🔹 Distribution of Task Completion Time"
   ]
  },
  {
   "cell_type": "code",
   "execution_count": 41,
   "id": "952b38db-2b11-4549-be1a-75db31c765e3",
   "metadata": {},
   "outputs": [
    {
     "data": {
      "image/png": "[encoded data removed]",
      "text/plain": [
       "<Figure size 1000x600 with 1 Axes>"
      ]
     },
     "metadata": {},
     "output_type": "display_data"
    }
   ],
   "source": [
    "plt.figure(figsize=(10, 6))\n",
    "plt.hist(df['Task_Completion_Days'], bins=15, color='skyblue', edgecolor='black')\n",
    "plt.title('Distribution of Task Completion Time (Days)')\n",
    "plt.xlabel('Days')\n",
    "plt.ylabel('Number of Tasks')\n",
    "plt.show()"
   ]
  },
  {
   "cell_type": "markdown",
   "id": "756dd31f-2776-4ebe-b5da-8001b7f96b06",
   "metadata": {},
   "source": [
    "### 🔹 Task Duration & Scores Distribution "
   ]
  },
  {
   "cell_type": "code",
   "execution_count": 30,
   "id": "73870c69-4a53-4420-b676-489a1c16594d",
   "metadata": {},
   "outputs": [
    {
     "data": {
      "text/plain": [
       "<Axes: title={'center': 'Project Quality Score Distribution'}, ylabel='Frequency'>"
      ]
     },
     "execution_count": 30,
     "metadata": {},
     "output_type": "execute_result"
    },
    {
     "data": {
      "image/png": "[encoded data removed]",
      "text/plain": [
       "<Figure size 640x480 with 1 Axes>"
      ]
     },
     "metadata": {},
     "output_type": "display_data"
    }
   ],
   "source": [
    "df['Task_Completion_Days'].plot(kind='hist', title='Task Duration Distribution')\n",
    "df['Project_Quality_Score'].plot(kind='hist', title='Project Quality Score Distribution')"
   ]
  },
  {
   "cell_type": "markdown",
   "id": "85da633b-c3b1-47ca-828b-1f2064f3bbcf",
   "metadata": {},
   "source": [
    "## 📈 KPI Summary by Department"
   ]
  },
  {
   "cell_type": "markdown",
   "id": "607136a2-4526-4583-a7c0-ab97fcf892dc",
   "metadata": {},
   "source": [
    "### 🔹 Average task days, quality, feedback"
   ]
  },
  {
   "cell_type": "code",
   "execution_count": 31,
   "id": "aea58f4f-92e3-4bd7-8c81-d64d427e7061",
   "metadata": {},
   "outputs": [
    {
     "data": {
      "text/html": [
       "<div>\n",
       "<style scoped>\n",
       "    .dataframe tbody tr th:only-of-type {\n",
       "        vertical-align: middle;\n",
       "    }\n",
       "\n",
       "    .dataframe tbody tr th {\n",
       "        vertical-align: top;\n",
       "    }\n",
       "\n",
       "    .dataframe thead th {\n",
       "        text-align: right;\n",
       "    }\n",
       "</style>\n",
       "<table border=\"1\" class=\"dataframe\">\n",
       "  <thead>\n",
       "    <tr style=\"text-align: right;\">\n",
       "      <th></th>\n",
       "      <th>Task_Completion_Days</th>\n",
       "      <th>Project_Quality_Score</th>\n",
       "      <th>Mentor_Feedback_Score</th>\n",
       "    </tr>\n",
       "    <tr>\n",
       "      <th>Department</th>\n",
       "      <th></th>\n",
       "      <th></th>\n",
       "      <th></th>\n",
       "    </tr>\n",
       "  </thead>\n",
       "  <tbody>\n",
       "    <tr>\n",
       "      <th>Design</th>\n",
       "      <td>8.12</td>\n",
       "      <td>8.02</td>\n",
       "      <td>4.01</td>\n",
       "    </tr>\n",
       "    <tr>\n",
       "      <th>Finance</th>\n",
       "      <td>8.12</td>\n",
       "      <td>8.00</td>\n",
       "      <td>3.96</td>\n",
       "    </tr>\n",
       "    <tr>\n",
       "      <th>HR</th>\n",
       "      <td>7.94</td>\n",
       "      <td>7.95</td>\n",
       "      <td>3.98</td>\n",
       "    </tr>\n",
       "    <tr>\n",
       "      <th>Marketing</th>\n",
       "      <td>8.02</td>\n",
       "      <td>8.03</td>\n",
       "      <td>4.03</td>\n",
       "    </tr>\n",
       "    <tr>\n",
       "      <th>Operations</th>\n",
       "      <td>7.99</td>\n",
       "      <td>7.94</td>\n",
       "      <td>3.99</td>\n",
       "    </tr>\n",
       "    <tr>\n",
       "      <th>Tech</th>\n",
       "      <td>7.61</td>\n",
       "      <td>7.98</td>\n",
       "      <td>3.94</td>\n",
       "    </tr>\n",
       "  </tbody>\n",
       "</table>\n",
       "</div>"
      ],
      "text/plain": [
       "            Task_Completion_Days  Project_Quality_Score  Mentor_Feedback_Score\n",
       "Department                                                                    \n",
       "Design                      8.12                   8.02                   4.01\n",
       "Finance                     8.12                   8.00                   3.96\n",
       "HR                          7.94                   7.95                   3.98\n",
       "Marketing                   8.02                   8.03                   4.03\n",
       "Operations                  7.99                   7.94                   3.99\n",
       "Tech                        7.61                   7.98                   3.94"
      ]
     },
     "execution_count": 31,
     "metadata": {},
     "output_type": "execute_result"
    }
   ],
   "source": [
    "summary = df.groupby('Department')[['Task_Completion_Days', 'Project_Quality_Score', 'Mentor_Feedback_Score']].mean().round(2)\n",
    "summary"
   ]
  },
  {
   "cell_type": "markdown",
   "id": "97ea6558-af03-4378-b492-56658b04ca6a",
   "metadata": {},
   "source": [
    "### 🔹 Department-wise Performance & Sentiment Summary"
   ]
  },
  {
   "cell_type": "code",
   "execution_count": 68,
   "id": "93a70165-a7d6-438b-bd6d-9c4015419d94",
   "metadata": {},
   "outputs": [
    {
     "data": {
      "text/html": [
       "<div>\n",
       "<style scoped>\n",
       "    .dataframe tbody tr th:only-of-type {\n",
       "        vertical-align: middle;\n",
       "    }\n",
       "\n",
       "    .dataframe tbody tr th {\n",
       "        vertical-align: top;\n",
       "    }\n",
       "\n",
       "    .dataframe thead th {\n",
       "        text-align: right;\n",
       "    }\n",
       "</style>\n",
       "<table border=\"1\" class=\"dataframe\">\n",
       "  <thead>\n",
       "    <tr style=\"text-align: right;\">\n",
       "      <th></th>\n",
       "      <th>Department</th>\n",
       "      <th>Avg Completion Time (Days)</th>\n",
       "      <th>Avg Project Quality</th>\n",
       "      <th>Sentiment Breakdown</th>\n",
       "    </tr>\n",
       "  </thead>\n",
       "  <tbody>\n",
       "    <tr>\n",
       "      <th>0</th>\n",
       "      <td>Design</td>\n",
       "      <td>8.117347</td>\n",
       "      <td>8.015306</td>\n",
       "      <td>{'Positive': 504, 'Neutral': 182, 'Negative': 98}</td>\n",
       "    </tr>\n",
       "    <tr>\n",
       "      <th>1</th>\n",
       "      <td>Finance</td>\n",
       "      <td>8.116883</td>\n",
       "      <td>8.001181</td>\n",
       "      <td>{'Positive': 530, 'Neutral': 218, 'Negative': 99}</td>\n",
       "    </tr>\n",
       "    <tr>\n",
       "      <th>2</th>\n",
       "      <td>HR</td>\n",
       "      <td>7.935162</td>\n",
       "      <td>7.951372</td>\n",
       "      <td>{'Positive': 492, 'Neutral': 214, 'Negative': 96}</td>\n",
       "    </tr>\n",
       "    <tr>\n",
       "      <th>3</th>\n",
       "      <td>Marketing</td>\n",
       "      <td>8.023720</td>\n",
       "      <td>8.026217</td>\n",
       "      <td>{'Positive': 480, 'Neutral': 214, 'Negative': ...</td>\n",
       "    </tr>\n",
       "    <tr>\n",
       "      <th>4</th>\n",
       "      <td>Operations</td>\n",
       "      <td>7.985426</td>\n",
       "      <td>7.942825</td>\n",
       "      <td>{'Positive': 561, 'Neutral': 221, 'Negative': ...</td>\n",
       "    </tr>\n",
       "    <tr>\n",
       "      <th>5</th>\n",
       "      <td>Tech</td>\n",
       "      <td>7.607551</td>\n",
       "      <td>7.977117</td>\n",
       "      <td>{'Positive': 551, 'Neutral': 211, 'Negative': ...</td>\n",
       "    </tr>\n",
       "  </tbody>\n",
       "</table>\n",
       "</div>"
      ],
      "text/plain": [
       "   Department  Avg Completion Time (Days)  Avg Project Quality  \\\n",
       "0      Design                    8.117347             8.015306   \n",
       "1     Finance                    8.116883             8.001181   \n",
       "2          HR                    7.935162             7.951372   \n",
       "3   Marketing                    8.023720             8.026217   \n",
       "4  Operations                    7.985426             7.942825   \n",
       "5        Tech                    7.607551             7.977117   \n",
       "\n",
       "                                 Sentiment Breakdown  \n",
       "0  {'Positive': 504, 'Neutral': 182, 'Negative': 98}  \n",
       "1  {'Positive': 530, 'Neutral': 218, 'Negative': 99}  \n",
       "2  {'Positive': 492, 'Neutral': 214, 'Negative': 96}  \n",
       "3  {'Positive': 480, 'Neutral': 214, 'Negative': ...  \n",
       "4  {'Positive': 561, 'Neutral': 221, 'Negative': ...  \n",
       "5  {'Positive': 551, 'Neutral': 211, 'Negative': ...  "
      ]
     },
     "execution_count": 68,
     "metadata": {},
     "output_type": "execute_result"
    }
   ],
   "source": [
    "dept_summary = df.groupby('Department').agg({\n",
    "    'Task_Completion_Days': 'mean',\n",
    "    'Project_Quality_Score': 'mean',\n",
    "    'Feedback Sentiment': lambda x: x.value_counts().to_dict()\n",
    "}).reset_index()\n",
    "\n",
    "dept_summary.rename(columns={\n",
    "    'Task_Completion_Days': 'Avg Completion Time (Days)',\n",
    "    'Project_Quality_Score': 'Avg Project Quality',\n",
    "    'Feedback Sentiment': 'Sentiment Breakdown'\n",
    "}, inplace=True)\n",
    "\n",
    "dept_summary"
   ]
  },
  {
   "cell_type": "markdown",
   "id": "2ed63c96-1245-4979-b31d-58977f4444cc",
   "metadata": {},
   "source": [
    "## 💬 Sentiment Analysis on Mentor Feedback"
   ]
  },
  {
   "cell_type": "code",
   "execution_count": 62,
   "id": "f3169f79-f528-494f-9a77-1c1ac4055245",
   "metadata": {},
   "outputs": [
    {
     "data": {
      "text/html": [
       "<div>\n",
       "<style scoped>\n",
       "    .dataframe tbody tr th:only-of-type {\n",
       "        vertical-align: middle;\n",
       "    }\n",
       "\n",
       "    .dataframe tbody tr th {\n",
       "        vertical-align: top;\n",
       "    }\n",
       "\n",
       "    .dataframe thead th {\n",
       "        text-align: right;\n",
       "    }\n",
       "</style>\n",
       "<table border=\"1\" class=\"dataframe\">\n",
       "  <thead>\n",
       "    <tr style=\"text-align: right;\">\n",
       "      <th></th>\n",
       "      <th>Intern Name</th>\n",
       "      <th>Intern ID</th>\n",
       "      <th>Department</th>\n",
       "      <th>Task Name</th>\n",
       "      <th>Project Assigned</th>\n",
       "      <th>Date of Assignment</th>\n",
       "      <th>Date of Completion</th>\n",
       "      <th>Month</th>\n",
       "      <th>Task_Completion_Days</th>\n",
       "      <th>Project_Quality_Score</th>\n",
       "      <th>Mentor_Feedback_Score</th>\n",
       "      <th>Project Quality</th>\n",
       "      <th>Mentor Feedback</th>\n",
       "      <th>Sentiment Score</th>\n",
       "      <th>Feedback Sentiment</th>\n",
       "    </tr>\n",
       "  </thead>\n",
       "  <tbody>\n",
       "    <tr>\n",
       "      <th>0</th>\n",
       "      <td>Allison Hill</td>\n",
       "      <td>INT1000</td>\n",
       "      <td>Operations</td>\n",
       "      <td>Report Analysis</td>\n",
       "      <td>Project Alpha</td>\n",
       "      <td>2024-12-26</td>\n",
       "      <td>2025-01-07</td>\n",
       "      <td>December</td>\n",
       "      <td>12</td>\n",
       "      <td>9</td>\n",
       "      <td>5</td>\n",
       "      <td>8</td>\n",
       "      <td>Outstanding contribution to the project.</td>\n",
       "      <td>0.6124</td>\n",
       "      <td>Positive</td>\n",
       "    </tr>\n",
       "    <tr>\n",
       "      <th>1</th>\n",
       "      <td>Brian Yang</td>\n",
       "      <td>INT1001</td>\n",
       "      <td>Finance</td>\n",
       "      <td>Social Media Campaign</td>\n",
       "      <td>Project Beta</td>\n",
       "      <td>2025-02-26</td>\n",
       "      <td>2025-03-01</td>\n",
       "      <td>February</td>\n",
       "      <td>3</td>\n",
       "      <td>9</td>\n",
       "      <td>5</td>\n",
       "      <td>9</td>\n",
       "      <td>Very proactive and solution-oriented.</td>\n",
       "      <td>0.4754</td>\n",
       "      <td>Positive</td>\n",
       "    </tr>\n",
       "    <tr>\n",
       "      <th>2</th>\n",
       "      <td>Javier Johnson</td>\n",
       "      <td>INT1002</td>\n",
       "      <td>Operations</td>\n",
       "      <td>Report Analysis</td>\n",
       "      <td>Project Sigma</td>\n",
       "      <td>2024-12-25</td>\n",
       "      <td>2024-12-27</td>\n",
       "      <td>December</td>\n",
       "      <td>2</td>\n",
       "      <td>7</td>\n",
       "      <td>5</td>\n",
       "      <td>7</td>\n",
       "      <td>Excellent work, very thorough and on time.</td>\n",
       "      <td>0.5719</td>\n",
       "      <td>Positive</td>\n",
       "    </tr>\n",
       "    <tr>\n",
       "      <th>3</th>\n",
       "      <td>Lance Hoffman</td>\n",
       "      <td>INT1003</td>\n",
       "      <td>Design</td>\n",
       "      <td>API Integration</td>\n",
       "      <td>Project Alpha</td>\n",
       "      <td>2025-04-01</td>\n",
       "      <td>2025-04-02</td>\n",
       "      <td>April</td>\n",
       "      <td>1</td>\n",
       "      <td>9</td>\n",
       "      <td>5</td>\n",
       "      <td>9</td>\n",
       "      <td>Inconsistent quality, needs mentoring.</td>\n",
       "      <td>0.0000</td>\n",
       "      <td>Neutral</td>\n",
       "    </tr>\n",
       "    <tr>\n",
       "      <th>4</th>\n",
       "      <td>Kimberly Robinson</td>\n",
       "      <td>INT1004</td>\n",
       "      <td>HR</td>\n",
       "      <td>Social Media Campaign</td>\n",
       "      <td>Project Beta</td>\n",
       "      <td>2025-03-07</td>\n",
       "      <td>2025-03-16</td>\n",
       "      <td>March</td>\n",
       "      <td>9</td>\n",
       "      <td>7</td>\n",
       "      <td>3</td>\n",
       "      <td>9</td>\n",
       "      <td>Outstanding contribution to the project.</td>\n",
       "      <td>0.6124</td>\n",
       "      <td>Positive</td>\n",
       "    </tr>\n",
       "  </tbody>\n",
       "</table>\n",
       "</div>"
      ],
      "text/plain": [
       "         Intern Name Intern ID  Department              Task Name  \\\n",
       "0       Allison Hill   INT1000  Operations        Report Analysis   \n",
       "1         Brian Yang   INT1001     Finance  Social Media Campaign   \n",
       "2     Javier Johnson   INT1002  Operations        Report Analysis   \n",
       "3      Lance Hoffman   INT1003      Design        API Integration   \n",
       "4  Kimberly Robinson   INT1004          HR  Social Media Campaign   \n",
       "\n",
       "  Project Assigned Date of Assignment Date of Completion     Month  \\\n",
       "0    Project Alpha         2024-12-26         2025-01-07  December   \n",
       "1     Project Beta         2025-02-26         2025-03-01  February   \n",
       "2    Project Sigma         2024-12-25         2024-12-27  December   \n",
       "3    Project Alpha         2025-04-01         2025-04-02     April   \n",
       "4     Project Beta         2025-03-07         2025-03-16     March   \n",
       "\n",
       "   Task_Completion_Days  Project_Quality_Score  Mentor_Feedback_Score  \\\n",
       "0                    12                      9                      5   \n",
       "1                     3                      9                      5   \n",
       "2                     2                      7                      5   \n",
       "3                     1                      9                      5   \n",
       "4                     9                      7                      3   \n",
       "\n",
       "   Project Quality                             Mentor Feedback  \\\n",
       "0                8    Outstanding contribution to the project.   \n",
       "1                9       Very proactive and solution-oriented.   \n",
       "2                7  Excellent work, very thorough and on time.   \n",
       "3                9      Inconsistent quality, needs mentoring.   \n",
       "4                9    Outstanding contribution to the project.   \n",
       "\n",
       "   Sentiment Score Feedback Sentiment  \n",
       "0           0.6124           Positive  \n",
       "1           0.4754           Positive  \n",
       "2           0.5719           Positive  \n",
       "3           0.0000            Neutral  \n",
       "4           0.6124           Positive  "
      ]
     },
     "execution_count": 62,
     "metadata": {},
     "output_type": "execute_result"
    }
   ],
   "source": [
    "np.random.seed(42)\n",
    "df['Project Quality'] = np.random.randint(5, 11, size=len(df))\n",
    "feedback_options = [\n",
    "    \"Excellent work, very thorough and on time.\",\n",
    "    \"Needs to improve time management.\",\n",
    "    \"Good quality but delays in delivery.\",\n",
    "    \"Outstanding contribution to the project.\",\n",
    "    \"Average performance, met expectations.\",\n",
    "    \"Struggled with deadlines and quality.\",\n",
    "    \"Very proactive and solution-oriented.\",\n",
    "    \"Inconsistent quality, needs mentoring.\"\n",
    "]\n",
    "df['Mentor Feedback'] = np.random.choice(feedback_options, size=len(df))\n",
    "df.head()"
   ]
  },
  {
   "cell_type": "code",
   "execution_count": 63,
   "id": "6fcfdd63-0135-4c2e-ba98-427cc31e2fb3",
   "metadata": {},
   "outputs": [
    {
     "name": "stderr",
     "output_type": "stream",
     "text": [
      "[nltk_data] Downloading package vader_lexicon to C:\\Users\\Other\n",
      "[nltk_data]     User\\AppData\\Roaming\\nltk_data...\n",
      "[nltk_data]   Package vader_lexicon is already up-to-date!\n"
     ]
    },
    {
     "data": {
      "text/html": [
       "<div>\n",
       "<style scoped>\n",
       "    .dataframe tbody tr th:only-of-type {\n",
       "        vertical-align: middle;\n",
       "    }\n",
       "\n",
       "    .dataframe tbody tr th {\n",
       "        vertical-align: top;\n",
       "    }\n",
       "\n",
       "    .dataframe thead th {\n",
       "        text-align: right;\n",
       "    }\n",
       "</style>\n",
       "<table border=\"1\" class=\"dataframe\">\n",
       "  <thead>\n",
       "    <tr style=\"text-align: right;\">\n",
       "      <th></th>\n",
       "      <th>Intern Name</th>\n",
       "      <th>Intern ID</th>\n",
       "      <th>Department</th>\n",
       "      <th>Task Name</th>\n",
       "      <th>Project Assigned</th>\n",
       "      <th>Date of Assignment</th>\n",
       "      <th>Date of Completion</th>\n",
       "      <th>Month</th>\n",
       "      <th>Task_Completion_Days</th>\n",
       "      <th>Project_Quality_Score</th>\n",
       "      <th>Mentor_Feedback_Score</th>\n",
       "      <th>Project Quality</th>\n",
       "      <th>Mentor Feedback</th>\n",
       "      <th>Sentiment Score</th>\n",
       "      <th>Feedback Sentiment</th>\n",
       "    </tr>\n",
       "  </thead>\n",
       "  <tbody>\n",
       "    <tr>\n",
       "      <th>0</th>\n",
       "      <td>Allison Hill</td>\n",
       "      <td>INT1000</td>\n",
       "      <td>Operations</td>\n",
       "      <td>Report Analysis</td>\n",
       "      <td>Project Alpha</td>\n",
       "      <td>2024-12-26</td>\n",
       "      <td>2025-01-07</td>\n",
       "      <td>December</td>\n",
       "      <td>12</td>\n",
       "      <td>9</td>\n",
       "      <td>5</td>\n",
       "      <td>8</td>\n",
       "      <td>Outstanding contribution to the project.</td>\n",
       "      <td>0.6124</td>\n",
       "      <td>Positive</td>\n",
       "    </tr>\n",
       "    <tr>\n",
       "      <th>1</th>\n",
       "      <td>Brian Yang</td>\n",
       "      <td>INT1001</td>\n",
       "      <td>Finance</td>\n",
       "      <td>Social Media Campaign</td>\n",
       "      <td>Project Beta</td>\n",
       "      <td>2025-02-26</td>\n",
       "      <td>2025-03-01</td>\n",
       "      <td>February</td>\n",
       "      <td>3</td>\n",
       "      <td>9</td>\n",
       "      <td>5</td>\n",
       "      <td>9</td>\n",
       "      <td>Very proactive and solution-oriented.</td>\n",
       "      <td>0.4754</td>\n",
       "      <td>Positive</td>\n",
       "    </tr>\n",
       "    <tr>\n",
       "      <th>2</th>\n",
       "      <td>Javier Johnson</td>\n",
       "      <td>INT1002</td>\n",
       "      <td>Operations</td>\n",
       "      <td>Report Analysis</td>\n",
       "      <td>Project Sigma</td>\n",
       "      <td>2024-12-25</td>\n",
       "      <td>2024-12-27</td>\n",
       "      <td>December</td>\n",
       "      <td>2</td>\n",
       "      <td>7</td>\n",
       "      <td>5</td>\n",
       "      <td>7</td>\n",
       "      <td>Excellent work, very thorough and on time.</td>\n",
       "      <td>0.5719</td>\n",
       "      <td>Positive</td>\n",
       "    </tr>\n",
       "    <tr>\n",
       "      <th>3</th>\n",
       "      <td>Lance Hoffman</td>\n",
       "      <td>INT1003</td>\n",
       "      <td>Design</td>\n",
       "      <td>API Integration</td>\n",
       "      <td>Project Alpha</td>\n",
       "      <td>2025-04-01</td>\n",
       "      <td>2025-04-02</td>\n",
       "      <td>April</td>\n",
       "      <td>1</td>\n",
       "      <td>9</td>\n",
       "      <td>5</td>\n",
       "      <td>9</td>\n",
       "      <td>Inconsistent quality, needs mentoring.</td>\n",
       "      <td>0.0000</td>\n",
       "      <td>Neutral</td>\n",
       "    </tr>\n",
       "    <tr>\n",
       "      <th>4</th>\n",
       "      <td>Kimberly Robinson</td>\n",
       "      <td>INT1004</td>\n",
       "      <td>HR</td>\n",
       "      <td>Social Media Campaign</td>\n",
       "      <td>Project Beta</td>\n",
       "      <td>2025-03-07</td>\n",
       "      <td>2025-03-16</td>\n",
       "      <td>March</td>\n",
       "      <td>9</td>\n",
       "      <td>7</td>\n",
       "      <td>3</td>\n",
       "      <td>9</td>\n",
       "      <td>Outstanding contribution to the project.</td>\n",
       "      <td>0.6124</td>\n",
       "      <td>Positive</td>\n",
       "    </tr>\n",
       "  </tbody>\n",
       "</table>\n",
       "</div>"
      ],
      "text/plain": [
       "         Intern Name Intern ID  Department              Task Name  \\\n",
       "0       Allison Hill   INT1000  Operations        Report Analysis   \n",
       "1         Brian Yang   INT1001     Finance  Social Media Campaign   \n",
       "2     Javier Johnson   INT1002  Operations        Report Analysis   \n",
       "3      Lance Hoffman   INT1003      Design        API Integration   \n",
       "4  Kimberly Robinson   INT1004          HR  Social Media Campaign   \n",
       "\n",
       "  Project Assigned Date of Assignment Date of Completion     Month  \\\n",
       "0    Project Alpha         2024-12-26         2025-01-07  December   \n",
       "1     Project Beta         2025-02-26         2025-03-01  February   \n",
       "2    Project Sigma         2024-12-25         2024-12-27  December   \n",
       "3    Project Alpha         2025-04-01         2025-04-02     April   \n",
       "4     Project Beta         2025-03-07         2025-03-16     March   \n",
       "\n",
       "   Task_Completion_Days  Project_Quality_Score  Mentor_Feedback_Score  \\\n",
       "0                    12                      9                      5   \n",
       "1                     3                      9                      5   \n",
       "2                     2                      7                      5   \n",
       "3                     1                      9                      5   \n",
       "4                     9                      7                      3   \n",
       "\n",
       "   Project Quality                             Mentor Feedback  \\\n",
       "0                8    Outstanding contribution to the project.   \n",
       "1                9       Very proactive and solution-oriented.   \n",
       "2                7  Excellent work, very thorough and on time.   \n",
       "3                9      Inconsistent quality, needs mentoring.   \n",
       "4                9    Outstanding contribution to the project.   \n",
       "\n",
       "   Sentiment Score Feedback Sentiment  \n",
       "0           0.6124           Positive  \n",
       "1           0.4754           Positive  \n",
       "2           0.5719           Positive  \n",
       "3           0.0000            Neutral  \n",
       "4           0.6124           Positive  "
      ]
     },
     "execution_count": 63,
     "metadata": {},
     "output_type": "execute_result"
    }
   ],
   "source": [
    "nltk.download('vader_lexicon')\n",
    "sia = SentimentIntensityAnalyzer()\n",
    "df['Sentiment Score'] = df['Mentor Feedback'].apply(lambda x: sia.polarity_scores(x)['compound'])\n",
    "\n",
    "def classify_sentiment(score):\n",
    "    if score >= 0.05:\n",
    "        return 'Positive'\n",
    "    elif score <= -0.05:\n",
    "        return 'Negative'\n",
    "    else:\n",
    "        return 'Neutral'\n",
    "\n",
    "df['Feedback Sentiment'] = df['Sentiment Score'].apply(classify_sentiment)\n",
    "df.head()"
   ]
  },
  {
   "cell_type": "markdown",
   "id": "ad355c7a-99d4-48f7-b7bb-27aae8c131d4",
   "metadata": {},
   "source": [
    "## 📊 Visualizations"
   ]
  },
  {
   "cell_type": "markdown",
   "id": "7958f8dc-7b75-40b3-a1bb-5f7a1be6b1b8",
   "metadata": {},
   "source": [
    "### 🔹 Task Completion Time by Month"
   ]
  },
  {
   "cell_type": "code",
   "execution_count": 21,
   "id": "a0d8436f-a775-474a-a293-ce49cc55e643",
   "metadata": {},
   "outputs": [
    {
     "data": {
      "text/plain": [
       "<Axes: title={'center': 'Average Task Completion Time by Month'}, xlabel='Month'>"
      ]
     },
     "execution_count": 21,
     "metadata": {},
     "output_type": "execute_result"
    },
    {
     "data": {
      "image/png": "[encoded data removed]",
      "text/plain": [
       "<Figure size 640x480 with 1 Axes>"
      ]
     },
     "metadata": {},
     "output_type": "display_data"
    }
   ],
   "source": [
    "df.groupby('Month')['Task_Completion_Days'].mean().plot(kind='bar', color='skyblue', title='Average Task Completion Time by Month')\n"
   ]
  },
  {
   "cell_type": "markdown",
   "id": "9f69279b-bc59-4294-8ecf-af75b4a6becc",
   "metadata": {},
   "source": [
    "### 🔹 Average Quality Score by Department"
   ]
  },
  {
   "cell_type": "code",
   "execution_count": 23,
   "id": "4f3cfa95-e44a-4d69-bf82-862da8c5b718",
   "metadata": {},
   "outputs": [
    {
     "data": {
      "text/plain": [
       "<Axes: title={'center': 'Average Project Quality by Department'}, xlabel='Department'>"
      ]
     },
     "execution_count": 23,
     "metadata": {},
     "output_type": "execute_result"
    },
    {
     "data": {
      "image/png": "[encoded data removed]",
      "text/plain": [
       "<Figure size 640x480 with 1 Axes>"
      ]
     },
     "metadata": {},
     "output_type": "display_data"
    }
   ],
   "source": [
    "df.groupby('Department')['Project_Quality_Score'].mean().plot(kind='bar', color='mediumseagreen', title='Average Project Quality by Department')\n"
   ]
  },
  {
   "cell_type": "markdown",
   "id": "132a51a5-c7c5-478f-ac7d-cf7c11cc62e0",
   "metadata": {},
   "source": [
    "### 🔹 Average Feedback Score by Department"
   ]
  },
  {
   "cell_type": "code",
   "execution_count": 33,
   "id": "c5b21f85-ad8b-4645-ae35-feaed994782a",
   "metadata": {},
   "outputs": [
    {
     "data": {
      "text/plain": [
       "<Axes: title={'center': 'Mentor Feedback Score by Department'}, xlabel='Department'>"
      ]
     },
     "execution_count": 33,
     "metadata": {},
     "output_type": "execute_result"
    },
    {
     "data": {
      "image/png": "[encoded data removed]",
      "text/plain": [
       "<Figure size 640x480 with 1 Axes>"
      ]
     },
     "metadata": {},
     "output_type": "display_data"
    }
   ],
   "source": [
    "df.groupby('Department')['Mentor_Feedback_Score'].mean().plot(kind='bar', color='mediumpurple', title='Mentor Feedback Score by Department')"
   ]
  },
  {
   "cell_type": "markdown",
   "id": "c0b17ec0-228e-4adb-9d00-9390323acde7",
   "metadata": {},
   "source": [
    "### 🔹 Average Project Quality by Department"
   ]
  },
  {
   "cell_type": "code",
   "execution_count": 44,
   "id": "79797bc1-b582-4656-b1fa-c35e3491594a",
   "metadata": {},
   "outputs": [
    {
     "data": {
      "image/png": "[encoded data removed]",
      "text/plain": [
       "<Figure size 1000x600 with 1 Axes>"
      ]
     },
     "metadata": {},
     "output_type": "display_data"
    }
   ],
   "source": [
    "plt.figure(figsize=(10, 6))\n",
    "df.groupby('Department')['Project_Quality_Score'].mean().plot(kind='bar', color='mediumseagreen')\n",
    "plt.title('Average Project Quality by Department')\n",
    "plt.ylabel('Quality Score')\n",
    "plt.show()"
   ]
  },
  {
   "cell_type": "markdown",
   "id": "12064ce7-6f74-4c8b-8a71-c4237ab3e533",
   "metadata": {},
   "source": [
    "### 🔹 Overall Mentor Feedback Sentiment"
   ]
  },
  {
   "cell_type": "code",
   "execution_count": 64,
   "id": "e93668a6-e825-4b7f-8323-65d515e36859",
   "metadata": {},
   "outputs": [
    {
     "data": {
      "image/png": "[encoded data removed]",
      "text/plain": [
       "<Figure size 800x500 with 1 Axes>"
      ]
     },
     "metadata": {},
     "output_type": "display_data"
    }
   ],
   "source": [
    "plt.figure(figsize=(8, 5))\n",
    "df['Mentor_Feedback_Score'].value_counts().plot(kind='bar', color=['green', 'grey', 'red'])\n",
    "plt.title('Overall Mentor Feedback Sentiment')\n",
    "plt.ylabel('Count')\n",
    "plt.show()"
   ]
  },
  {
   "cell_type": "markdown",
   "id": "37f04df8-71f1-4542-b434-73eace772147",
   "metadata": {},
   "source": [
    "## 📁 Export Monthly Reports"
   ]
  },
  {
   "cell_type": "code",
   "execution_count": 74,
   "id": "04233cfb-583b-46e0-8462-4756d88c8a4b",
   "metadata": {},
   "outputs": [],
   "source": [
    "# Export final processed dataset\n",
    "df.to_excel(\"Final_Internship_Performance_Report.xlsx\", index=False)"
   ]
  },
  {
   "cell_type": "markdown",
   "id": "fbee80d1-ca40-4125-bcc1-f0f511962db6",
   "metadata": {
    "jp-MarkdownHeadingCollapsed": true
   },
   "source": [
    "# 🧠 Final Insights\r\n",
    "\r\n",
    "- ✅ Most interns completed tasks within **5–10 days**, based on the task duration distribution.\r\n",
    "- 📊 The **Development** department showed the **longest average task completion time**, while **Marketing** completed tasks the fastest.\r\n",
    "- 🏆 **Project quality scores** remained consistently high across all departments.\r\n",
    "- 💬 Sentiment analysis revealed that **Tech** and **Marketing** teams received the most **positive feedback**, while **HR** showed a higher ratio of neutral/negative sentiments.\r\n",
    "- 📅 Monthly trend analysis indicated steady improvement in both quality and efficiency, suggesting interns adapted over time.\r",
    "\r\n",
    "---\r\n",
    "\r\n",
    "## 💡 Recommendations\r\n",
    "\r\n",
    "- ⏱ Establish **standard benchmarks** for task durations across departments to encourage consistent pacing.\r\n",
    "- 🧠 Encourage **cross-department mentorship learning**, especially leveraging strengths seen in Tech and Marketing teams.\r\n",
    "- 📊 Develop and share **monthly performance dashboards** with interns to track their progress and goals.\r\n",
    "- 💬 Continue **sentiment tracking** to monitor intern satisfaction and mentor effectiveness.\r\n",
    "- ⚙️ Evaluate workload and support systems in the **Development** department to reduce completion delays.\r\n"
   ]
  },
  {
   "cell_type": "code",
   "execution_count": null,
   "id": "ec76a87f-9393-4978-a690-4add078335b9",
   "metadata": {},
   "outputs": [],
   "source": []
  }
 ],
 "metadata": {
  "kernelspec": {
   "display_name": "Python 3 (ipykernel)",
   "language": "python",
   "name": "python3"
  },
  "language_info": {
   "codemirror_mode": {
    "name": "ipython",
    "version": 3
   },
   "file_extension": ".py",
   "mimetype": "text/x-python",
   "name": "python",
   "nbconvert_exporter": "python",
   "pygments_lexer": "ipython3",
   "version": "3.11.7"
  }
 },
 "nbformat": 4,
 "nbformat_minor": 5
}
